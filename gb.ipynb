{
 "cells": [
  {
   "cell_type": "code",
   "execution_count": 2,
   "id": "4ea9264c",
   "metadata": {},
   "outputs": [
    {
     "name": "stdout",
     "output_type": "stream",
     "text": [
      "      цена  площадь  комнаты  этаж        район\n",
      "0  5500000       45        2     3   Приморский\n",
      "1  6200000       50        2     5  Центральный\n",
      "2  4700000       38        1     2   Московский\n",
      "3  7200000       60        3     7  Фрунзенский\n",
      "4  5800000       42        1     4   Выборгский\n"
     ]
    }
   ],
   "source": [
    "import pandas as pd\n",
    "df = pd.read_csv(\"flats55.csv\")\n",
    "print(df.head()) #fs\n",
    "\n"
   ]
  }
 ],
 "metadata": {
  "kernelspec": {
   "display_name": "Python (myenv)",
   "language": "python",
   "name": "myenv"
  },
  "language_info": {
   "codemirror_mode": {
    "name": "ipython",
    "version": 3
   },
   "file_extension": ".py",
   "mimetype": "text/x-python",
   "name": "python",
   "nbconvert_exporter": "python",
   "pygments_lexer": "ipython3",
   "version": "3.12.3"
  }
 },
 "nbformat": 4,
 "nbformat_minor": 5
}
